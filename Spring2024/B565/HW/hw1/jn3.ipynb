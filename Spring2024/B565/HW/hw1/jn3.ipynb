{
 "cells": [
  {
   "cell_type": "markdown",
   "metadata": {},
   "source": [
    "# Similarity & Distance Measurement"
   ]
  },
  {
   "cell_type": "code",
   "execution_count": 41,
   "metadata": {},
   "outputs": [],
   "source": [
    "import numpy as np"
   ]
  },
  {
   "cell_type": "code",
   "execution_count": 42,
   "metadata": {},
   "outputs": [],
   "source": [
    "def get_cosine_similarity(x, y):\n",
    "    if x.shape[0] > y.shape[0]:\n",
    "        y.resize(x.shape)\n",
    "    else:\n",
    "        x.resize(y.shape)\n",
    "\n",
    "    dot_product = 0\n",
    "    x_abs = 0\n",
    "    y_abs = 0\n",
    "    for i in range(len(x)):\n",
    "        dot_product += x[i] * y[i]\n",
    "        x_abs += x[i] ** 2\n",
    "        y_abs += y[i] ** 2\n",
    "\n",
    "    return dot_product / (np.sqrt(x_abs) * np.sqrt(y_abs))\n",
    "\n",
    "\n",
    "# cosine_similarity(np.array([1, 2, 3]), np.array([1, 2]))"
   ]
  },
  {
   "cell_type": "code",
   "execution_count": 43,
   "metadata": {},
   "outputs": [],
   "source": [
    "def get_correlation(x, y):\n",
    "    x_bar = np.sum(x)/x.shape[0]\n",
    "    y_bar = np.sum(y)/y.shape[0]\n",
    "\n",
    "    divident = 0\n",
    "    divisor_1_sum = 0\n",
    "    divisor_2_sum = 0\n",
    "\n",
    "    for i in range(len(x)):\n",
    "        divident += (x[i] - x_bar) * (y[i] - y_bar)\n",
    "        divisor_1_sum += (x[i] - x_bar) ** 2\n",
    "        divisor_2_sum += (y[i] - y_bar) ** 2\n",
    "\n",
    "    correlation_coffecient = divident / np.sqrt(divisor_1_sum * divisor_2_sum)\n",
    "    return correlation_coffecient"
   ]
  },
  {
   "cell_type": "code",
   "execution_count": 44,
   "metadata": {},
   "outputs": [],
   "source": [
    "def get_euclidean_distance(x, y):\n",
    "    if x.shape[0] > y.shape[0]:\n",
    "        y.resize(x.shape)\n",
    "    else:\n",
    "        x.resize(y.shape)\n",
    "\n",
    "    dist = 0\n",
    "    for i in range(len(x)):\n",
    "        dist += (x[i] - y[i]) ** 2\n",
    "\n",
    "    return np.sqrt(dist)"
   ]
  },
  {
   "cell_type": "code",
   "execution_count": 45,
   "metadata": {},
   "outputs": [],
   "source": [
    "def get_jaccard_similarity(x, y):\n",
    "    intersection = 0\n",
    "\n",
    "    for i in range(len(x)):\n",
    "        if x[i] == y[i]:\n",
    "            intersection += 1\n",
    "\n",
    "    union = len(x) + len(y) - intersection\n",
    "    return intersection / union"
   ]
  },
  {
   "cell_type": "markdown",
   "metadata": {},
   "source": [
    "### Problem 1"
   ]
  },
  {
   "cell_type": "code",
   "execution_count": 46,
   "metadata": {},
   "outputs": [
    {
     "name": "stdout",
     "output_type": "stream",
     "text": [
      "Cosine Similarity :  1.0\n",
      "Correlation :  nan\n",
      "Euclidean Distance :  2.0\n"
     ]
    },
    {
     "name": "stderr",
     "output_type": "stream",
     "text": [
      "/var/folders/jb/t6sdf7sj3mjggwnwzyd2sy2c0000gn/T/ipykernel_22669/2471443806.py:14: RuntimeWarning: invalid value encountered in scalar divide\n",
      "  correlation_coffecient = divident / np.sqrt(divisor_1_sum * divisor_2_sum)\n"
     ]
    }
   ],
   "source": [
    "x = (1, 1, 1, 1)\n",
    "y = (2, 2, 2, 2)\n",
    "print(\"Cosine Similarity : \", get_cosine_similarity(np.array(x), np.array(y)))\n",
    "print(\"Correlation : \",get_correlation(np.array(x), np.array(y)))\n",
    "print(\"Euclidean Distance : \",get_euclidean_distance(np.array(x), np.array(y)))\n"
   ]
  },
  {
   "cell_type": "markdown",
   "metadata": {},
   "source": [
    "### Problem 2"
   ]
  },
  {
   "cell_type": "code",
   "execution_count": 47,
   "metadata": {},
   "outputs": [
    {
     "name": "stdout",
     "output_type": "stream",
     "text": [
      "Cosine Similarity :  0.0\n",
      "Correlation :  -1.0\n",
      "Euclidean Distance :  2.0\n",
      "Jaccard Similarity :  0.0\n"
     ]
    }
   ],
   "source": [
    "x = (0, 1, 0, 1)\n",
    "y = (1, 0, 1, 0)\n",
    "print(\"Cosine Similarity : \", get_cosine_similarity(np.array(x), np.array(y)))\n",
    "print(\"Correlation : \",get_correlation(np.array(x), np.array(y)))\n",
    "print(\"Euclidean Distance : \",get_euclidean_distance(np.array(x), np.array(y)))\n",
    "print(\"Jaccard Similarity : \",get_jaccard_similarity(np.array(x), np.array(y)))Fin"
   ]
  },
  {
   "cell_type": "markdown",
   "metadata": {},
   "source": [
    "### Problem 3"
   ]
  },
  {
   "cell_type": "code",
   "execution_count": 48,
   "metadata": {},
   "outputs": [
    {
     "name": "stdout",
     "output_type": "stream",
     "text": [
      "Cosine Similarity :  0.0\n",
      "Correlation :  0.0\n",
      "Euclidean Distance :  2.0\n"
     ]
    }
   ],
   "source": [
    "x = (0, -1, 0, 1)\n",
    "y = (1, 0, -1, 0)\n",
    "print(\"Cosine Similarity : \", get_cosine_similarity(np.array(x), np.array(y)))\n",
    "print(\"Correlation : \",get_correlation(np.array(x), np.array(y)))\n",
    "print(\"Euclidean Distance : \",get_euclidean_distance(np.array(x), np.array(y)))"
   ]
  },
  {
   "cell_type": "markdown",
   "metadata": {},
   "source": [
    "### Problem 4"
   ]
  },
  {
   "cell_type": "code",
   "execution_count": 49,
   "metadata": {},
   "outputs": [
    {
     "name": "stdout",
     "output_type": "stream",
     "text": [
      "Cosine Similarity :  0.75\n",
      "Correlation :  0.25\n",
      "Jaccard Similarity :  0.5\n"
     ]
    }
   ],
   "source": [
    "x = (1, 1, 0, 1, 0, 1)\n",
    "y = (1, 1, 1, 0, 0, 1)\n",
    "print(\"Cosine Similarity : \", get_cosine_similarity(np.array(x), np.array(y)))\n",
    "print(\"Correlation : \",get_correlation(np.array(x), np.array(y)))\n",
    "print(\"Jaccard Similarity : \",get_jaccard_similarity(np.array(x), np.array(y)))"
   ]
  },
  {
   "cell_type": "markdown",
   "metadata": {},
   "source": [
    "### Problem 5"
   ]
  },
  {
   "cell_type": "code",
   "execution_count": 50,
   "metadata": {},
   "outputs": [
    {
     "name": "stdout",
     "output_type": "stream",
     "text": [
      "Cosine Similarity :  0.0\n",
      "Correlation :  -5.73316704659901e-17\n"
     ]
    }
   ],
   "source": [
    "x=(2,-1,0,2,0,-3)\n",
    "y=(-1,1,-1,0,0,-1)\n",
    "print(\"Cosine Similarity : \", get_cosine_similarity(np.array(x), np.array(y)))\n",
    "print(\"Correlation : \",get_correlation(np.array(x), np.array(y)))"
   ]
  },
  {
   "cell_type": "code",
   "execution_count": null,
   "metadata": {},
   "outputs": [],
   "source": []
  }
 ],
 "metadata": {
  "kernelspec": {
   "display_name": "data_mining_group_work",
   "language": "python",
   "name": "python3"
  },
  "language_info": {
   "codemirror_mode": {
    "name": "ipython",
    "version": 3
   },
   "file_extension": ".py",
   "mimetype": "text/x-python",
   "name": "python",
   "nbconvert_exporter": "python",
   "pygments_lexer": "ipython3",
   "version": "3.11.7"
  }
 },
 "nbformat": 4,
 "nbformat_minor": 2
}
